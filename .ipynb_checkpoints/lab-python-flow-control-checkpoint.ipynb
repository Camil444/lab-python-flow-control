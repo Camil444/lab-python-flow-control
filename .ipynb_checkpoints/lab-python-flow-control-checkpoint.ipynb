{
 "cells": [
  {
   "cell_type": "markdown",
   "id": "d3bfc191-8885-42ee-b0a0-bbab867c6f9f",
   "metadata": {
    "tags": []
   },
   "source": [
    "# Lab | Flow Control"
   ]
  },
  {
   "cell_type": "markdown",
   "id": "3851fcd1-cf98-4653-9c89-e003b7ec9400",
   "metadata": {},
   "source": [
    "## Exercise: Managing Customer Orders Optimized\n",
    "\n",
    "In the last lab, you were starting an online store that sells various products. To ensure smooth operations, you developed a program that manages customer orders and inventory.\n",
    "\n",
    "You did so without using flow control. Let's go a step further and improve this code.\n",
    "\n",
    "Follow the steps below to complete the exercise:\n",
    "\n",
    "1. Look at your code from the lab data structures, and improve repeated code with loops.\n",
    "\n",
    "2. Instead of asking the user to input the name of three products that a customer wants to order, do the following:\n",
    "    \n",
    "    a. Prompt the user to enter the name of a product that a customer wants to order.\n",
    "    \n",
    "    b. Add the product name to the \"customer_orders\" set.\n",
    "    \n",
    "    c. Ask the user if they want to add another product (yes/no).\n",
    "    \n",
    "    d. Continue the loop until the user does not want to add another product.\n",
    "\n",
    "3. Instead of updating the inventory by subtracting 1 from the quantity of each product, only do it for  the products that were ordered (those in \"customer_orders\")."
   ]
  },
  {
   "cell_type": "code",
   "execution_count": 23,
   "id": "c515d802-6762-48cf-9217-105b5431685e",
   "metadata": {
    "tags": []
   },
   "outputs": [
    {
     "name": "stdin",
     "output_type": "stream",
     "text": [
      "Do you want to order something ? (yes/no):  yes\n",
      "Choose your product from the following list: ['t-shirt', 'mug', 'hat', 'book', 'keychain'] ? HAT\n",
      "How many hats would you like to order? 40\n"
     ]
    },
    {
     "name": "stdout",
     "output_type": "stream",
     "text": [
      "40 hat(s) added to your order.\n"
     ]
    },
    {
     "name": "stdin",
     "output_type": "stream",
     "text": [
      "Do you want to add another product? (yes/no):  YES\n",
      "Choose your product from the following list: ['t-shirt', 'mug', 'hat', 'book', 'keychain'] ? HAT\n",
      "How many hats would you like to order? 20\n"
     ]
    },
    {
     "name": "stdout",
     "output_type": "stream",
     "text": [
      "Sorry, we only have 3 hat(s) left in stock.\n"
     ]
    },
    {
     "name": "stdin",
     "output_type": "stream",
     "text": [
      "Would you still like to order hat within the available stock limit?(yes/no):  YES\n",
      "How many hats would you like to order? 3\n"
     ]
    },
    {
     "name": "stdout",
     "output_type": "stream",
     "text": [
      "3 hat(s) added to your order.\n"
     ]
    },
    {
     "name": "stdin",
     "output_type": "stream",
     "text": [
      "Do you want to add another product? (yes/no):  YES\n",
      "Choose your product from the following list: ['t-shirt', 'mug', 'hat', 'book', 'keychain'] ? BOOK\n",
      "How many books would you like to order? 20\n"
     ]
    },
    {
     "name": "stdout",
     "output_type": "stream",
     "text": [
      "20 book(s) added to your order.\n"
     ]
    },
    {
     "name": "stdin",
     "output_type": "stream",
     "text": [
      "Do you want to add another product? (yes/no):  NO\n"
     ]
    },
    {
     "name": "stdout",
     "output_type": "stream",
     "text": [
      "Your order contains the following products:\n",
      "43 hats\n",
      "20 books\n"
     ]
    }
   ],
   "source": [
    "products = [\"t-shirt\", \"mug\", \"hat\", \"book\", \"keychain\"]\n",
    "customer_order = {}\n",
    "inventory = {'t-shirt': 14, 'mug': 76, 'hat': 43, 'book': 65, 'keychain': 24}\n",
    "\n",
    "\n",
    "keep_ordering = input(\"Do you want to order something ? (yes/no): \")\n",
    "\n",
    "while keep_ordering.lower() == \"yes\":\n",
    "    customer_wish = input(f\"Choose your product from the following list: {products} ?\").lower()\n",
    "    if customer_wish in products:\n",
    "        quantity = int(input(f'How many {customer_wish}s would you like to order?'))\n",
    "        if quantity <= inventory[customer_wish]:\n",
    "            if customer_wish in customer_order:\n",
    "                customer_order[customer_wish] += quantity\n",
    "            else:\n",
    "                customer_order[customer_wish] = quantity\n",
    "            inventory[customer_wish] -= quantity\n",
    "            print(f\"{quantity} {customer_wish}(s) added to your order.\")\n",
    "        else:\n",
    "            print(f\"Sorry, we only have {inventory[customer_wish]} {customer_wish}(s) left in stock.\")\n",
    "            another_one = input(f\"Would you still like to order {customer_wish} within the available stock limit?(yes/no): \")\n",
    "            if another_one.lower() == \"yes\":\n",
    "                quantity = int(input(f'How many {customer_wish}s would you like to order?'))\n",
    "                if quantity <= inventory[customer_wish]:\n",
    "                    if customer_wish in customer_order:\n",
    "                        customer_order[customer_wish] += quantity\n",
    "                    else:\n",
    "                        customer_order[customer_wish] = quantity\n",
    "                        inventory[customer_wish] -= quantity\n",
    "                    print(f\"{quantity} {customer_wish}(s) added to your order.\")                   \n",
    "    else:\n",
    "        print(\"Invalid product, please choose from the list.\")\n",
    "    keep_ordering = input(\"Do you want to add another product? (yes/no): \")\n",
    "    \n",
    "print(\"Your order contains the following products:\")\n",
    "for product, quantity in customer_order.items():\n",
    "    print(f\"{quantity} {product}s\")\n",
    "    \n"
   ]
  },
  {
   "cell_type": "code",
   "execution_count": null,
   "id": "87ea43a5-9b3e-451d-ba41-77ec3b05b58a",
   "metadata": {},
   "outputs": [],
   "source": []
  }
 ],
 "metadata": {
  "kernelspec": {
   "display_name": "Python 3 (ipykernel)",
   "language": "python",
   "name": "python3"
  },
  "language_info": {
   "codemirror_mode": {
    "name": "ipython",
    "version": 3
   },
   "file_extension": ".py",
   "mimetype": "text/x-python",
   "name": "python",
   "nbconvert_exporter": "python",
   "pygments_lexer": "ipython3",
   "version": "3.11.4"
  }
 },
 "nbformat": 4,
 "nbformat_minor": 5
}
